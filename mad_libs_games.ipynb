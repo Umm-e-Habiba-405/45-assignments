{
  "nbformat": 4,
  "nbformat_minor": 0,
  "metadata": {
    "colab": {
      "provenance": [],
      "authorship_tag": "ABX9TyNehaoQLTUuwxvfFlNHpn2u",
      "include_colab_link": true
    },
    "kernelspec": {
      "name": "python3",
      "display_name": "Python 3"
    },
    "language_info": {
      "name": "python"
    }
  },
  "cells": [
    {
      "cell_type": "markdown",
      "metadata": {
        "id": "view-in-github",
        "colab_type": "text"
      },
      "source": [
        "<a href=\"https://colab.research.google.com/github/Umm-e-Habiba-405/45-assignments/blob/main/mad_libs_games.ipynb\" target=\"_parent\"><img src=\"https://colab.research.google.com/assets/colab-badge.svg\" alt=\"Open In Colab\"/></a>"
      ]
    },
    {
      "cell_type": "code",
      "execution_count": null,
      "metadata": {
        "id": "iAxbblJIm-EI"
      },
      "outputs": [],
      "source": []
    },
    {
      "cell_type": "markdown",
      "source": [
        "# **Mad Libs Game in Python**"
      ],
      "metadata": {
        "id": "QL0vi3y8nLPE"
      }
    },
    {
      "cell_type": "code",
      "source": [
        "name=input(\"Enter a name: \")\n",
        "programming_language=input(\"Enter a programming language (e.g: python, React.js, Typescript): \")\n",
        "mentor=input(\"Enter a mentor name:\")\n",
        "verb1 = input(\"Enter a verb (action word): \")\n",
        "verb2 = input(\"Enter another verb: \")\n",
        "verb3 = input(\"Enter one more verb: \")\n",
        "\n",
        "noun1 = input(\"Enter a noun (thing/object): \")\n",
        "noun2 = input(\"Enter another noun: \")\n",
        "noun3 = input(\"Enter one more noun: \")\n",
        "\n",
        "adjective1 = input(\"Enter an adjective (describing word): \")\n",
        "adjective2 = input(\"Enter another adjective: \")\n",
        "adjective3 = input(\"Enter one more adjective: \")\n",
        "adjective4 = input(\"Enter a final adjective: \")\n",
        "\n",
        "# Printing the Mad Libs story\n",
        "print(\"\\n--- The Coding Journey of\", name, \"---\\n\")\n",
        "\n",
        "print(\"1. Once upon a time, a\", adjective1, \"coder named\", name, \"wanted to master\", programming_language + \".\")\n",
        "print(\"2. Determined to succeed, they\", verb1, \"every day to improve their skills.\")\n",
        "print(\"3. They sought guidance from the legendary mentor,\", mentor, \"who always carried a\", noun1, \"with them.\")\n",
        "print(\"4. One day,\", name, \"encountered a\", adjective2, noun2, \"that was impossible to\", verb2 + \".\")\n",
        "print(\"5. Feeling\", adjective3, \", they asked\", mentor, \"for help.\")\n",
        "print(\"6.\", mentor, \"gave them a\", adjective4, noun3, \"and said, 'Always debug with patience and never stop learning!'\")\n",
        "print(\"7. Inspired by these words,\", name, verb3, \"and finally solved the problem!\")\n",
        "print(\"8. From that day on, they became a master of\", programming_language, \"and continued to\", verb1, \"great projects!\")\n",
        "\n",
        "print(\"\\n--- The End! ---\")"
      ],
      "metadata": {
        "colab": {
          "base_uri": "https://localhost:8080/"
        },
        "id": "JPYu_FNPndiY",
        "outputId": "90408801-3049-4457-acab-7baf1e7e154e"
      },
      "execution_count": 3,
      "outputs": [
        {
          "output_type": "stream",
          "name": "stdout",
          "text": [
            "Enter a name: hiba\n",
            "Enter a programming language (e.g: python, React.js, Typescript): python\n",
            "Enter a mentor name:umm e habiba\n",
            "Enter a verb (action word): code\n",
            "Enter another verb: debug\n",
            "Enter one more verb: solve\n",
            "Enter a noun (thing/object): laptop\n",
            "Enter another noun: codebase\n",
            "Enter one more noun: database\n",
            "Enter an adjective (describing word): creative\n",
            "Enter another adjective: exciting\n",
            "Enter one more adjective: innovative\n",
            "Enter a final adjective: challenging\n",
            "\n",
            "--- The Coding Journey of hiba ---\n",
            "\n",
            "1. Once upon a time, a creative coder named hiba wanted to master python.\n",
            "2. Determined to succeed, they code every day to improve their skills.\n",
            "3. They sought guidance from the legendary mentor, umm e habiba who always carried a laptop with them.\n",
            "4. One day, hiba encountered a exciting codebase that was impossible to debug.\n",
            "5. Feeling innovative , they asked umm e habiba for help.\n",
            "6. umm e habiba gave them a challenging database and said, 'Always debug with patience and never stop learning!'\n",
            "7. Inspired by these words, hiba solve and finally solved the problem!\n",
            "8. From that day on, they became a master of python and continued to code great projects!\n",
            "\n",
            "--- The End! ---\n"
          ]
        }
      ]
    }
  ]
}